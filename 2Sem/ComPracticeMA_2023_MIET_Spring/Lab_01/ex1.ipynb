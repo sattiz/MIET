{
 "cells": [
  {
   "cell_type": "code",
   "execution_count": 1,
   "id": "3ad8d597-b0e3-4d50-8e4a-c249b7d5b9e4",
   "metadata": {},
   "outputs": [
    {
     "name": "stdout",
     "output_type": "stream",
     "text": [
      "k = 7\n",
      "x = 7\n"
     ]
    }
   ],
   "source": [
    "2*3\n",
    "k=3+4\n",
    "print('k = ' + str(k))\n",
    "(k+1)*(k-1)\n",
    "x = 7\n",
    "(x+1)*(x-1)\n",
    "print('x = ' + str(x))"
   ]
  }
 ],
 "metadata": {
  "kernelspec": {
   "display_name": "Python 3 (ipykernel)",
   "language": "python",
   "name": "python3"
  },
  "language_info": {
   "codemirror_mode": {
    "name": "ipython",
    "version": 3
   },
   "file_extension": ".py",
   "mimetype": "text/x-python",
   "name": "python",
   "nbconvert_exporter": "python",
   "pygments_lexer": "ipython3",
   "version": "3.9.13"
  }
 },
 "nbformat": 4,
 "nbformat_minor": 5
}
