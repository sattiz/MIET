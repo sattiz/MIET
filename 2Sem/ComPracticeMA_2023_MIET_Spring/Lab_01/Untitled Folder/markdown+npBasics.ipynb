{
 "cells": [
  {
   "cell_type": "markdown",
   "id": "602e9cd5-ef0c-40a8-813b-4f5a7c3def79",
   "metadata": {},
   "source": [
    "$\\begin{bmatrix} 1 & 2 & 1 \\\\ 3 & 0 & 1 \\\\ 0 & 2 & 4 \\end{bmatrix}$"
   ]
  },
  {
   "cell_type": "code",
   "execution_count": 1,
   "id": "273caba3-ba33-480e-a0f6-c4488d14990a",
   "metadata": {},
   "outputs": [
    {
     "name": "stdout",
     "output_type": "stream",
     "text": [
      "[ 1  3 -1]\n"
     ]
    }
   ],
   "source": [
    "import numpy as np\n",
    "B = np.array([1, 3, -1])\n",
    "print(B)"
   ]
  },
  {
   "cell_type": "code",
   "execution_count": 15,
   "id": "9a5436ac-117e-4bd3-86e6-dee7fcfe316e",
   "metadata": {},
   "outputs": [
    {
     "name": "stdout",
     "output_type": "stream",
     "text": [
      "[[1 2 3 4]\n",
      " [0 1 3 2]]\n"
     ]
    }
   ],
   "source": [
    "import numpy as np\n",
    "A = np.array( [ [1, 2, 3, 4], [0, 1, 3, 2] ] )\n",
    "print(A)"
   ]
  },
  {
   "cell_type": "code",
   "execution_count": 4,
   "id": "bd2ce5f7-b310-46cf-8e37-88c0b9750854",
   "metadata": {},
   "outputs": [
    {
     "data": {
      "text/plain": [
       "2"
      ]
     },
     "execution_count": 4,
     "metadata": {},
     "output_type": "execute_result"
    }
   ],
   "source": [
    "A[1,3]"
   ]
  },
  {
   "cell_type": "code",
   "execution_count": 9,
   "id": "0b1a9c94-a47a-495d-bdb4-b9a92d1b3a14",
   "metadata": {},
   "outputs": [
    {
     "data": {
      "text/plain": [
       "-1"
      ]
     },
     "execution_count": 9,
     "metadata": {},
     "output_type": "execute_result"
    }
   ],
   "source": [
    "B[2]"
   ]
  },
  {
   "cell_type": "code",
   "execution_count": 10,
   "id": "1b659b5f-9f90-46f8-9b75-90e4eaaeb5cc",
   "metadata": {},
   "outputs": [
    {
     "data": {
      "text/plain": [
       "array([2, 1])"
      ]
     },
     "execution_count": 10,
     "metadata": {},
     "output_type": "execute_result"
    }
   ],
   "source": [
    "A[:,1]"
   ]
  },
  {
   "cell_type": "code",
   "execution_count": 11,
   "id": "0128735e-6876-40b4-8f6a-3e23991e1b93",
   "metadata": {},
   "outputs": [
    {
     "name": "stdout",
     "output_type": "stream",
     "text": [
      "[1 3 5 7]\n"
     ]
    }
   ],
   "source": [
    "v = np.arange(1,8,2)\n",
    "print (v)"
   ]
  },
  {
   "cell_type": "code",
   "execution_count": 23,
   "id": "219d52da-c02e-4d0c-8600-27d5aa26a108",
   "metadata": {},
   "outputs": [
    {
     "name": "stdout",
     "output_type": "stream",
     "text": [
      "A = [0 1 2 3]\n",
      "B: \n",
      " [[0 1 2]\n",
      " [3 4 5]\n",
      " [6 7 8]]\n"
     ]
    }
   ],
   "source": [
    "import numpy as np\n",
    "A = np.arange(4)\n",
    "print('A =', A)\n",
    "B = np.arange(9).reshape(3, 3)\n",
    "print('B: \\n', B)"
   ]
  },
  {
   "cell_type": "code",
   "execution_count": null,
   "id": "215b2b38-f9cc-4df1-90ba-db8ffeec1cf5",
   "metadata": {},
   "outputs": [],
   "source": []
  }
 ],
 "metadata": {
  "kernelspec": {
   "display_name": "Python 3 (ipykernel)",
   "language": "python",
   "name": "python3"
  },
  "language_info": {
   "codemirror_mode": {
    "name": "ipython",
    "version": 3
   },
   "file_extension": ".py",
   "mimetype": "text/x-python",
   "name": "python",
   "nbconvert_exporter": "python",
   "pygments_lexer": "ipython3",
   "version": "3.9.13"
  }
 },
 "nbformat": 4,
 "nbformat_minor": 5
}
