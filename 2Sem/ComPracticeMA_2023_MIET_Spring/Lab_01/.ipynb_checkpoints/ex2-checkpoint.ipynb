{
 "cells": [
  {
   "cell_type": "code",
   "execution_count": 3,
   "id": "3ad8d597-b0e3-4d50-8e4a-c249b7d5b9e4",
   "metadata": {},
   "outputs": [
    {
     "name": "stdout",
     "output_type": "stream",
     "text": [
      "k = 7\n",
      "x = 7\n"
     ]
    }
   ],
   "source": [
    "2*3\n",
    "k=3+4\n",
    "print('k = ' + str(k))\n",
    "(k+1)*(k-1)\n",
    "x = 7\n",
    "(x+1)*(x-1)\n",
    "print('x = ' + str(x))"
   ]
  },
  {
   "cell_type": "code",
   "execution_count": 4,
   "id": "d3a8d675-733e-438d-a65a-1828590a70a4",
   "metadata": {
    "tags": []
   },
   "outputs": [
    {
     "name": "stdout",
     "output_type": "stream",
     "text": [
      "h = 44\n"
     ]
    }
   ],
   "source": [
    "h=(k+2)*3+\\\n",
    "3+(k+7)\n",
    "print('h = ' + str(h))"
   ]
  },
  {
   "cell_type": "code",
   "execution_count": 5,
   "id": "daf1e083-f466-45a8-837f-6c5f90e31d7f",
   "metadata": {},
   "outputs": [
    {
     "name": "stdout",
     "output_type": "stream",
     "text": [
      "Variable   Type    Data/Info\n",
      "----------------------------\n",
      "h          int     44\n",
      "k          int     7\n",
      "x          int     7\n"
     ]
    }
   ],
   "source": [
    "%whos"
   ]
  },
  {
   "cell_type": "code",
   "execution_count": 6,
   "id": "77560b6b-8639-457e-a272-7a9ebad1b7e3",
   "metadata": {},
   "outputs": [],
   "source": [
    "del(k)"
   ]
  },
  {
   "cell_type": "code",
   "execution_count": 7,
   "id": "86c11e01-acdb-448d-8b4e-5e8353d5eed1",
   "metadata": {},
   "outputs": [
    {
     "name": "stdout",
     "output_type": "stream",
     "text": [
      "Variable   Type    Data/Info\n",
      "----------------------------\n",
      "h          int     44\n",
      "x          int     7\n"
     ]
    }
   ],
   "source": [
    "%whos"
   ]
  },
  {
   "cell_type": "code",
   "execution_count": 8,
   "id": "908be579-502b-4687-bae8-88219b51195b",
   "metadata": {},
   "outputs": [
    {
     "name": "stdin",
     "output_type": "stream",
     "text": [
      "Once deleted, variables cannot be recovered. Proceed (y/[n])?  y\n"
     ]
    }
   ],
   "source": [
    "%reset"
   ]
  },
  {
   "cell_type": "code",
   "execution_count": 7,
   "id": "c33c40d0-0ef0-419b-8980-c63bd37510b9",
   "metadata": {},
   "outputs": [
    {
     "name": "stdout",
     "output_type": "stream",
     "text": [
      "Variable   Type    Data/Info\n",
      "----------------------------\n",
      "h          int     44\n",
      "x          int     7\n"
     ]
    }
   ],
   "source": [
    "%whos"
   ]
  }
 ],
 "metadata": {
  "kernelspec": {
   "display_name": "Python 3 (ipykernel)",
   "language": "python",
   "name": "python3"
  },
  "language_info": {
   "codemirror_mode": {
    "name": "ipython",
    "version": 3
   },
   "file_extension": ".py",
   "mimetype": "text/x-python",
   "name": "python",
   "nbconvert_exporter": "python",
   "pygments_lexer": "ipython3",
   "version": "3.9.13"
  }
 },
 "nbformat": 4,
 "nbformat_minor": 5
}
