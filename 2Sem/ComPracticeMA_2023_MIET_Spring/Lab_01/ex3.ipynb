{
 "cells": [
  {
   "cell_type": "code",
   "execution_count": null,
   "id": "c6dc5b9c-2fc0-4eeb-8250-d8a35e592a01",
   "metadata": {},
   "outputs": [],
   "source": [
    "x = 1 \n",
    "y = 2 \n",
    "z = 3\n",
    "t = 4"
   ]
  },
  {
   "cell_type": "code",
   "execution_count": null,
   "id": "6378f601-c943-4d72-a73c-595591e86652",
   "metadata": {},
   "outputs": [
    {
     "name": "stdout",
     "output_type": "stream",
     "text": [
      "x=1; y=2; z=3; t=4\n"
     ]
    }
   ],
   "source": [
    "print('x='+str(x), 'y='+str(y), 'z='+str(z), 't='+str(t), sep = '; ')"
   ]
  },
  {
   "cell_type": "code",
   "execution_count": null,
   "id": "a75b5b3a-6782-494b-bfea-b0516465acf5",
   "metadata": {},
   "outputs": [],
   "source": [
    "del(x)"
   ]
  },
  {
   "cell_type": "code",
   "execution_count": null,
   "id": "df3bee90-a3f6-42b1-bc4f-4aab8e0825df",
   "metadata": {},
   "outputs": [
    {
     "name": "stdout",
     "output_type": "stream",
     "text": [
      "Variable   Type    Data/Info\n",
      "----------------------------\n",
      "t          int     4\n",
      "y          int     2\n",
      "z          int     3\n"
     ]
    }
   ],
   "source": [
    "%whos"
   ]
  },
  {
   "cell_type": "code",
   "execution_count": null,
   "id": "1a1af322-92d4-46cd-b36d-212e1ea50d72",
   "metadata": {},
   "outputs": [
    {
     "name": "stdout",
     "output_type": "stream",
     "text": [
      "Variable   Type    Data/Info\n",
      "----------------------------\n",
      "t          int     4\n",
      "y          int     2\n",
      "z          int     3\n"
     ]
    }
   ],
   "source": [
    "%whos"
   ]
  }
 ],
 "metadata": {
  "kernelspec": {
   "display_name": "Python 3 (ipykernel)",
   "language": "python",
   "name": "python3"
  },
  "language_info": {
   "codemirror_mode": {
    "name": "ipython",
    "version": 3
   },
   "file_extension": ".py",
   "mimetype": "text/x-python",
   "name": "python",
   "nbconvert_exporter": "python",
   "pygments_lexer": "ipython3",
   "version": "3.9.13"
  }
 },
 "nbformat": 4,
 "nbformat_minor": 5
}
