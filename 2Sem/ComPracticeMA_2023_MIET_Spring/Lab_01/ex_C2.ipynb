{
 "cells": [
  {
   "cell_type": "code",
   "execution_count": 13,
   "id": "ec292246-ff46-4adb-8477-c062b22dbeda",
   "metadata": {},
   "outputs": [
    {
     "name": "stdout",
     "output_type": "stream",
     "text": [
      "[ 0.00000000e+00  5.00000000e-01  8.66025404e-01  1.00000000e+00\n",
      "  8.66025404e-01  5.00000000e-01  1.22464680e-16 -5.00000000e-01\n",
      " -8.66025404e-01 -1.00000000e+00 -8.66025404e-01 -5.00000000e-01\n",
      " -2.44929360e-16] \n",
      "\n",
      "[ 1.00000000e+00  8.66025404e-01  5.00000000e-01  6.12323400e-17\n",
      " -5.00000000e-01 -8.66025404e-01 -1.00000000e+00 -8.66025404e-01\n",
      " -5.00000000e-01 -1.83697020e-16  5.00000000e-01  8.66025404e-01\n",
      "  1.00000000e+00] \n",
      "\n",
      "[ 0.00000000e+00  5.77350269e-01  1.73205081e+00  1.63312394e+16\n",
      " -1.73205081e+00 -5.77350269e-01 -1.22464680e-16  5.77350269e-01\n",
      "  1.73205081e+00  5.44374645e+15 -1.73205081e+00 -5.77350269e-01\n",
      " -2.44929360e-16] \n",
      "\n",
      "[            inf  1.73205081e+00  5.77350269e-01  6.12323400e-17\n",
      " -5.77350269e-01 -1.73205081e+00 -8.16561968e+15  1.73205081e+00\n",
      "  5.77350269e-01  1.83697020e-16 -5.77350269e-01 -1.73205081e+00\n",
      " -4.08280984e+15] \n",
      "\n",
      "[            inf  2.00000000e+00  1.15470054e+00  1.00000000e+00\n",
      "  1.15470054e+00  2.00000000e+00  8.16561968e+15 -2.00000000e+00\n",
      " -1.15470054e+00 -1.00000000e+00 -1.15470054e+00 -2.00000000e+00\n",
      " -4.08280984e+15] \n",
      "\n",
      "[ 1.00000000e+00  1.15470054e+00  2.00000000e+00  1.63312394e+16\n",
      " -2.00000000e+00 -1.15470054e+00 -1.00000000e+00 -1.15470054e+00\n",
      " -2.00000000e+00 -5.44374645e+15  2.00000000e+00  1.15470054e+00\n",
      "  1.00000000e+00] \n",
      "\n"
     ]
    },
    {
     "name": "stderr",
     "output_type": "stream",
     "text": [
      "/tmp/ipykernel_164042/1002359259.py:7: RuntimeWarning: divide by zero encountered in true_divide\n",
      "  print(np.cos(A)/np.sin(A), '\\n')\n",
      "/tmp/ipykernel_164042/1002359259.py:8: RuntimeWarning: divide by zero encountered in true_divide\n",
      "  print(1/np.sin(A), '\\n')\n"
     ]
    }
   ],
   "source": [
    "import numpy as np\n",
    "import numpy as pi\n",
    "A = np.arange(0, 2*np.pi+np.pi/7, np.pi/6)\n",
    "print(np.sin(A), '\\n')\n",
    "print(np.cos(A), '\\n')\n",
    "print(np.sin(A)/np.cos(A), '\\n')\n",
    "print(np.cos(A)/np.sin(A), '\\n')\n",
    "print(1/np.sin(A), '\\n')\n",
    "print(1/np.cos(A), '\\n')"
   ]
  },
  {
   "cell_type": "code",
   "execution_count": 21,
   "id": "4dce2f6c-8eb0-4c5d-8faf-2beaecb78a00",
   "metadata": {},
   "outputs": [
    {
     "name": "stdout",
     "output_type": "stream",
     "text": [
      "[1. 1. 1. 1. 1. 1. 1. 1. 1.]\n"
     ]
    }
   ],
   "source": [
    "A = np.arange(-2, 2.1, 0.5)\n",
    "def foo(x):\n",
    "    return np.cosh(x)*np.cosh(x) - np.sinh(x)*np.sinh(x)\n",
    "print(foo(A))"
   ]
  },
  {
   "cell_type": "code",
   "execution_count": null,
   "id": "23a993ae-265b-4366-999a-ce11f465f44a",
   "metadata": {},
   "outputs": [],
   "source": []
  }
 ],
 "metadata": {
  "kernelspec": {
   "display_name": "Python 3 (ipykernel)",
   "language": "python",
   "name": "python3"
  },
  "language_info": {
   "codemirror_mode": {
    "name": "ipython",
    "version": 3
   },
   "file_extension": ".py",
   "mimetype": "text/x-python",
   "name": "python",
   "nbconvert_exporter": "python",
   "pygments_lexer": "ipython3",
   "version": "3.9.13"
  }
 },
 "nbformat": 4,
 "nbformat_minor": 5
}
