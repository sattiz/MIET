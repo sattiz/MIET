{
 "cells": [
  {
   "cell_type": "code",
   "execution_count": 3,
   "id": "ec292246-ff46-4adb-8477-c062b22dbeda",
   "metadata": {},
   "outputs": [
    {
     "name": "stdout",
     "output_type": "stream",
     "text": [
      "[-6  0  6 12 18 24]\n"
     ]
    }
   ],
   "source": [
    "import numpy as np\n",
    "A = np.arange(-2,10,2) * 3\n",
    "print(A)"
   ]
  },
  {
   "cell_type": "code",
   "execution_count": 5,
   "id": "4dce2f6c-8eb0-4c5d-8faf-2beaecb78a00",
   "metadata": {},
   "outputs": [
    {
     "name": "stdout",
     "output_type": "stream",
     "text": [
      "[45 40 35 30 25 20 15 10]\n",
      "(8,)\n"
     ]
    }
   ],
   "source": [
    "B = np.arange(45,5,-5)\n",
    "print(B)\n",
    "print(B.shape)"
   ]
  }
 ],
 "metadata": {
  "kernelspec": {
   "display_name": "Python 3 (ipykernel)",
   "language": "python",
   "name": "python3"
  },
  "language_info": {
   "codemirror_mode": {
    "name": "ipython",
    "version": 3
   },
   "file_extension": ".py",
   "mimetype": "text/x-python",
   "name": "python",
   "nbconvert_exporter": "python",
   "pygments_lexer": "ipython3",
   "version": "3.9.13"
  }
 },
 "nbformat": 4,
 "nbformat_minor": 5
}
