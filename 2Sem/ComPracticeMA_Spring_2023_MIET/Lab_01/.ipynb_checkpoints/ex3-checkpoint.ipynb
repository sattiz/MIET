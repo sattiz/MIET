{
 "cells": [
  {
   "cell_type": "code",
   "execution_count": 4,
   "id": "596f79d8-91f4-446a-83f6-2efaa56fb359",
   "metadata": {},
   "outputs": [],
   "source": [
    "x = 1 \n",
    "y = 2 \n",
    "z = 3\n",
    "t = 4"
   ]
  },
  {
   "cell_type": "code",
   "execution_count": 5,
   "id": "d7a9fedf-a202-4124-97b8-652e0fcf914b",
   "metadata": {},
   "outputs": [
    {
     "name": "stdout",
     "output_type": "stream",
     "text": [
      "x=1; y=2; z=3; t=4\n"
     ]
    }
   ],
   "source": [
    "print('x='+str(x), 'y='+str(y), 'z='+str(z), 't='+str(t), sep = '; ')"
   ]
  },
  {
   "cell_type": "code",
   "execution_count": 6,
   "id": "2cbe29e9-7ef6-4d61-8c4a-b35d808f6341",
   "metadata": {},
   "outputs": [],
   "source": [
    "del(x)"
   ]
  },
  {
   "cell_type": "code",
   "execution_count": 7,
   "id": "6db38d9e-0628-4ad1-b3d1-385e4f8383ab",
   "metadata": {},
   "outputs": [
    {
     "name": "stdout",
     "output_type": "stream",
     "text": [
      "Variable   Type    Data/Info\n",
      "----------------------------\n",
      "t          int     4\n",
      "y          int     2\n",
      "z          int     3\n"
     ]
    }
   ],
   "source": [
    "%whos"
   ]
  },
  {
   "cell_type": "code",
   "execution_count": 8,
   "id": "c856faaf-8ca7-4274-84c4-a2154b9c8a01",
   "metadata": {},
   "outputs": [
    {
     "name": "stdout",
     "output_type": "stream",
     "text": [
      "Variable   Type    Data/Info\n",
      "----------------------------\n",
      "t          int     4\n",
      "y          int     2\n",
      "z          int     3\n"
     ]
    }
   ],
   "source": [
    "%whos"
   ]
  }
 ],
 "metadata": {
  "kernelspec": {
   "display_name": "Python 3 (ipykernel)",
   "language": "python",
   "name": "python3"
  },
  "language_info": {
   "codemirror_mode": {
    "name": "ipython",
    "version": 3
   },
   "file_extension": ".py",
   "mimetype": "text/x-python",
   "name": "python",
   "nbconvert_exporter": "python",
   "pygments_lexer": "ipython3",
   "version": "3.9.13"
  }
 },
 "nbformat": 4,
 "nbformat_minor": 5
}
